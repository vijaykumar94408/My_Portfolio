{
 "cells": [
  {
   "cell_type": "markdown",
   "id": "4edafa4a-d45f-4631-ae0c-99821b77ffe1",
   "metadata": {},
   "source": [
    "# **Text Analyzer**\n",
    "   - **Description**: Develop a program that takes a paragraph of text and performs various string manipulations to analyze it (e.g., word frequency, character count, etc.).\n",
    "   - **Key Topics**:\n",
    "     - Use **lists** to split the text into words.\n",
    "     - Use **sets** to find unique words.\n",
    "     - Use **dictionaries** to count word frequencies.\n",
    "     - Implement **string slicing** and formatting to display results neatly."
   ]
  },
  {
   "cell_type": "code",
   "execution_count": 1,
   "id": "6fcaaf4a-2e4b-46ad-ad95-b9f0f6d92b80",
   "metadata": {},
   "outputs": [
    {
     "name": "stdin",
     "output_type": "stream",
     "text": [
      "Enter a paragraph of text:  i am vijay kumar, i am good boy and i want to be machine learning engineer \n"
     ]
    },
    {
     "name": "stdout",
     "output_type": "stream",
     "text": [
      "\n",
      "--- Text Analysis ---\n",
      "Total words: 16\n",
      "Total characters (including spaces): 75\n",
      "Unique words: 13\n",
      "\n",
      "Word Frequencies:\n",
      "i: 3 times\n",
      "am: 2 times\n",
      "vijay: 1 times\n",
      "kumar,: 1 times\n",
      "good: 1 times\n",
      "boy: 1 times\n",
      "and: 1 times\n",
      "want: 1 times\n",
      "to: 1 times\n",
      "be: 1 times\n",
      "machine: 1 times\n",
      "learning: 1 times\n",
      "engineer: 1 times\n"
     ]
    }
   ],
   "source": [
    "# defining a function which take input as text variable and finds total character, unique words and word frequencies \n",
    "def analyze_text(text):\n",
    "    try:\n",
    "        words = text.split()\n",
    "        total_characters = len(text)\n",
    "        unique_words = set(words)\n",
    "        word_frequencies = {}\n",
    "        for word in words:\n",
    "            word = word.lower()\n",
    "            if word in word_frequencies:\n",
    "                word_frequencies[word] += 1\n",
    "            else:\n",
    "                word_frequencies[word] = 1\n",
    "# printing output from here\n",
    "        print(\"\\n--- Text Analysis ---\")\n",
    "        print(f\"Total words: {len(words)}\")\n",
    "        print(f\"Total characters (including spaces): {total_characters}\")\n",
    "        print(f\"Unique words: {len(unique_words)}\")\n",
    "\n",
    "        print(\"\\nWord Frequencies:\")\n",
    "        for word, count in word_frequencies.items():\n",
    "            print(f\"{word}: {count} times\")\n",
    "    \n",
    "    except Exception as e:\n",
    "        print(f\"An error occurred: {e}\")\n",
    "# defining a function to input text from user to validate it \n",
    "def get_text():\n",
    "    try:\n",
    "        text = input(\"Enter a paragraph of text: \")\n",
    "        if not text.strip():\n",
    "            raise ValueError(\"Error: Text cannot be empty.\")\n",
    "        return text\n",
    "    except ValueError as e:\n",
    "        print(e)\n",
    "        return None\n",
    "\n",
    "\n",
    "# this main function loops until user gives valid text and exit when analyzing the text operation is performemd \n",
    "def run_text_analyzer():\n",
    "    while True:\n",
    "        text = get_text()\n",
    "        if text:\n",
    "            analyze_text(text)\n",
    "            break\n",
    "\n",
    "run_text_analyzer()\n",
    "# calling main function "
   ]
  },
  {
   "cell_type": "code",
   "execution_count": null,
   "id": "83fa2ab9-4cbc-429f-b446-922fc6d61b44",
   "metadata": {},
   "outputs": [],
   "source": []
  }
 ],
 "metadata": {
  "kernelspec": {
   "display_name": "Python 3 (ipykernel)",
   "language": "python",
   "name": "python3"
  },
  "language_info": {
   "codemirror_mode": {
    "name": "ipython",
    "version": 3
   },
   "file_extension": ".py",
   "mimetype": "text/x-python",
   "name": "python",
   "nbconvert_exporter": "python",
   "pygments_lexer": "ipython3",
   "version": "3.12.4"
  }
 },
 "nbformat": 4,
 "nbformat_minor": 5
}
