{
 "cells": [
  {
   "cell_type": "markdown",
   "id": "d8cb790c-22a8-432f-b31f-78a431b89425",
   "metadata": {},
   "source": [
    "# Personal Expense Tracker**\n",
    "   - **Description**: Build an expense tracker that allows users to log expenses and categorize them (e.g., food, transport, etc.).\n",
    "   - **Key Topics**:\n",
    "     - Use **lists** to store the expense entries.\n",
    "     - Use **tuples** to handle immutable data like the expense name and amount.\n",
    "     - Use **sets** to manage unique categories of expenses.\n",
    "     - Implement **dictionary comprehensions** to create summaries of expenses by category.\n"
   ]
  },
  {
   "cell_type": "code",
   "execution_count": null,
   "id": "b20b5af9-0daa-4d9a-a41c-1441c4eaf25f",
   "metadata": {},
   "outputs": [
    {
     "name": "stdout",
     "output_type": "stream",
     "text": [
      "\n",
      "--- Personal Expense Tracker ---\n",
      "1. Add Expense\n",
      "2. View Expense Summary\n",
      "3. Exit\n"
     ]
    }
   ],
   "source": [
    "# taken one emptylist to store list of tuples from user \n",
    "expenses = []\n",
    "categories = set()   #stores categories from list and remove duplicates categories \n",
    "\n",
    "# defined a function  \n",
    "def add_expense():\n",
    "    try:\n",
    "        # used try catch method to catch run time errors \n",
    "\n",
    "\n",
    "        # inputs from user \n",
    "        name = (input(\"Enter the expense name: \"))\n",
    "        amount = float(input(\"Enter the amount: \"))\n",
    "        category = input(\"Enter the category Frome Below FOOD, TRAVEL, ENTERTAINMENT AND EMI: \").upper()\n",
    "        \n",
    "        # Add the expense as a tuple (name, amount, category)\n",
    "        expense_entry = (name, amount, category)\n",
    "        \n",
    "        # Append the expense to the list\n",
    "        expenses.append(expense_entry)\n",
    "        \n",
    "        # Add the category to the set of categories\n",
    "        categories.add(category)\n",
    "        \n",
    "        print(\"Expense added successfully!\\n\")\n",
    "    except ValueError:\n",
    "        print(\"Invalid input! Please enter a valid amount.\")\n",
    "\n",
    "# Function to display a summary of expenses by category\n",
    "def expense_summary():\n",
    "    try:\n",
    "        #if no expenses are added,this block will execute\n",
    "        if len(expenses) == 0:\n",
    "            print(\"No expenses to display.\")\n",
    "            return\n",
    "        \n",
    "        # Create a dictionary that summarizes expenses by category using dictionary comprehension\n",
    "        summary = {category: sum(expense[1] for expense in expenses if expense[2] == category) for category in categories}\n",
    "        print(summary)\n",
    "        print(\"\\nExpense Summary by Category:\")\n",
    "        for category, total in summary.items():\n",
    "            print(f\"{category}: ${total:.2f}\")\n",
    "    except Exception as e:\n",
    "        print(f\"An error occurred: {e}\")\n",
    "\n",
    "# Looping until user want to exit \n",
    "while True:\n",
    "    print(\"\\n--- Personal Expense Tracker ---\")\n",
    "    print(\"1. Add Expense\")\n",
    "    print(\"2. View Expense Summary\")\n",
    "    print(\"3. Exit\")\n",
    "    \n",
    "    choice = input(\"Choose an option: \")  #user can able to choose the operation \n",
    "    \n",
    "    if choice == \"1\":\n",
    "        add_expense()\n",
    "    elif choice == \"2\":\n",
    "        expense_summary()\n",
    "    elif choice == \"3\":\n",
    "        print(\"Exiting the program.\")\n",
    "        break\n",
    "    else:\n",
    "        print(\"Invalid choice! Please try again.\")\n"
   ]
  },
  {
   "cell_type": "code",
   "execution_count": null,
   "id": "239ccba0-e5bb-4197-a9d1-5c7f8e5ce3e3",
   "metadata": {},
   "outputs": [],
   "source": []
  },
  {
   "cell_type": "code",
   "execution_count": null,
   "id": "12f9ef0c-5d68-4a7a-a063-84a3a18bb7dc",
   "metadata": {},
   "outputs": [],
   "source": []
  }
 ],
 "metadata": {
  "kernelspec": {
   "display_name": "Python 3 (ipykernel)",
   "language": "python",
   "name": "python3"
  },
  "language_info": {
   "codemirror_mode": {
    "name": "ipython",
    "version": 3
   },
   "file_extension": ".py",
   "mimetype": "text/x-python",
   "name": "python",
   "nbconvert_exporter": "python",
   "pygments_lexer": "ipython3",
   "version": "3.12.4"
  }
 },
 "nbformat": 4,
 "nbformat_minor": 5
}
