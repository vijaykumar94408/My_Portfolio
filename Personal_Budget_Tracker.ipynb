{
 "cells": [
  {
   "cell_type": "markdown",
   "id": "78c54fd9-d875-43fc-932a-88b867c2446a",
   "metadata": {},
   "source": [
    "# Personal Budget Tracker: Develop a budget tracking program that saves income and expenses to a CSV file and calculates the user’s monthly savings."
   ]
  },
  {
   "cell_type": "code",
   "execution_count": 27,
   "id": "eeacc904-1784-4c82-ac55-c780ced342c8",
   "metadata": {},
   "outputs": [
    {
     "name": "stdout",
     "output_type": "stream",
     "text": [
      "Welcome to  Anvith solutions personal Expensive tracker\n",
      "select below operations to perform operations\n",
      "choose  1 : ADD Income\n",
      "choose  2 : ADD Expense\n",
      "choose  3 : Savings\n",
      "choose  4 : to clear file  \n",
      "choose  5 : to EXIT \n"
     ]
    },
    {
     "ename": "KeyboardInterrupt",
     "evalue": "Interrupted by user",
     "output_type": "error",
     "traceback": [
      "\u001b[1;31m---------------------------------------------------------------------------\u001b[0m",
      "\u001b[1;31mKeyboardInterrupt\u001b[0m                         Traceback (most recent call last)",
      "Cell \u001b[1;32mIn[27], line 51\u001b[0m\n\u001b[0;32m     49\u001b[0m \u001b[38;5;28mprint\u001b[39m(\u001b[38;5;124m\"\u001b[39m\u001b[38;5;124mchoose  4 : to clear file  \u001b[39m\u001b[38;5;124m\"\u001b[39m)\n\u001b[0;32m     50\u001b[0m \u001b[38;5;28mprint\u001b[39m(\u001b[38;5;124m\"\u001b[39m\u001b[38;5;124mchoose  5 : to EXIT \u001b[39m\u001b[38;5;124m\"\u001b[39m)\n\u001b[1;32m---> 51\u001b[0m choose_input\u001b[38;5;241m=\u001b[39m\u001b[38;5;28mint\u001b[39m(\u001b[38;5;28minput\u001b[39m(\u001b[38;5;124m\"\u001b[39m\u001b[38;5;124mChoose the operation to be performed\u001b[39m\u001b[38;5;124m\"\u001b[39m))\n\u001b[0;32m     52\u001b[0m \u001b[38;5;28;01mif\u001b[39;00m choose_input\u001b[38;5;241m==\u001b[39m\u001b[38;5;241m1\u001b[39m:\n\u001b[0;32m     53\u001b[0m     Income\u001b[38;5;241m=\u001b[39m\u001b[38;5;28mint\u001b[39m(\u001b[38;5;28minput\u001b[39m(\u001b[38;5;124m\"\u001b[39m\u001b[38;5;124menter income amount\u001b[39m\u001b[38;5;124m\"\u001b[39m))\n",
      "File \u001b[1;32m~\\anaconda3\\Lib\\site-packages\\ipykernel\\kernelbase.py:1262\u001b[0m, in \u001b[0;36mKernel.raw_input\u001b[1;34m(self, prompt)\u001b[0m\n\u001b[0;32m   1260\u001b[0m     msg \u001b[38;5;241m=\u001b[39m \u001b[38;5;124m\"\u001b[39m\u001b[38;5;124mraw_input was called, but this frontend does not support input requests.\u001b[39m\u001b[38;5;124m\"\u001b[39m\n\u001b[0;32m   1261\u001b[0m     \u001b[38;5;28;01mraise\u001b[39;00m StdinNotImplementedError(msg)\n\u001b[1;32m-> 1262\u001b[0m \u001b[38;5;28;01mreturn\u001b[39;00m \u001b[38;5;28mself\u001b[39m\u001b[38;5;241m.\u001b[39m_input_request(\n\u001b[0;32m   1263\u001b[0m     \u001b[38;5;28mstr\u001b[39m(prompt),\n\u001b[0;32m   1264\u001b[0m     \u001b[38;5;28mself\u001b[39m\u001b[38;5;241m.\u001b[39m_parent_ident[\u001b[38;5;124m\"\u001b[39m\u001b[38;5;124mshell\u001b[39m\u001b[38;5;124m\"\u001b[39m],\n\u001b[0;32m   1265\u001b[0m     \u001b[38;5;28mself\u001b[39m\u001b[38;5;241m.\u001b[39mget_parent(\u001b[38;5;124m\"\u001b[39m\u001b[38;5;124mshell\u001b[39m\u001b[38;5;124m\"\u001b[39m),\n\u001b[0;32m   1266\u001b[0m     password\u001b[38;5;241m=\u001b[39m\u001b[38;5;28;01mFalse\u001b[39;00m,\n\u001b[0;32m   1267\u001b[0m )\n",
      "File \u001b[1;32m~\\anaconda3\\Lib\\site-packages\\ipykernel\\kernelbase.py:1305\u001b[0m, in \u001b[0;36mKernel._input_request\u001b[1;34m(self, prompt, ident, parent, password)\u001b[0m\n\u001b[0;32m   1302\u001b[0m \u001b[38;5;28;01mexcept\u001b[39;00m \u001b[38;5;167;01mKeyboardInterrupt\u001b[39;00m:\n\u001b[0;32m   1303\u001b[0m     \u001b[38;5;66;03m# re-raise KeyboardInterrupt, to truncate traceback\u001b[39;00m\n\u001b[0;32m   1304\u001b[0m     msg \u001b[38;5;241m=\u001b[39m \u001b[38;5;124m\"\u001b[39m\u001b[38;5;124mInterrupted by user\u001b[39m\u001b[38;5;124m\"\u001b[39m\n\u001b[1;32m-> 1305\u001b[0m     \u001b[38;5;28;01mraise\u001b[39;00m \u001b[38;5;167;01mKeyboardInterrupt\u001b[39;00m(msg) \u001b[38;5;28;01mfrom\u001b[39;00m \u001b[38;5;28;01mNone\u001b[39;00m\n\u001b[0;32m   1306\u001b[0m \u001b[38;5;28;01mexcept\u001b[39;00m \u001b[38;5;167;01mException\u001b[39;00m:\n\u001b[0;32m   1307\u001b[0m     \u001b[38;5;28mself\u001b[39m\u001b[38;5;241m.\u001b[39mlog\u001b[38;5;241m.\u001b[39mwarning(\u001b[38;5;124m\"\u001b[39m\u001b[38;5;124mInvalid Message:\u001b[39m\u001b[38;5;124m\"\u001b[39m, exc_info\u001b[38;5;241m=\u001b[39m\u001b[38;5;28;01mTrue\u001b[39;00m)\n",
      "\u001b[1;31mKeyboardInterrupt\u001b[0m: Interrupted by user"
     ]
    }
   ],
   "source": [
    "import csv # imported csv \n",
    "import os # imported os to manipulate csv file opeations\n",
    "\n",
    "\n",
    "# function which add transaction to csv file for both income and expense\n",
    "def add_transaction(transaction_type,amount):\n",
    "    with open('personal_savings_tracker.csv',mode='a', newline='') as file:\n",
    "        csv_writer_file=csv.writer(file)\n",
    "        csv_writer_file.writerow([transaction_type,amount])\n",
    "\n",
    "\n",
    "# function to print savings after income and expenses are added and subtracted \n",
    "def savings_calculation():\n",
    "    # initialised total income and expense variable to store , for performing operations \n",
    "    total_income=0\n",
    "    total_expense=0\n",
    "    \n",
    "    with open('personal_savings_tracker.csv',mode='r')as file:\n",
    "        # checking if file exists or not \n",
    "        if not os.path.exists('personal_savings_tracker.csv'):\n",
    "            print(\"no such file directory\")\n",
    "            return 0\n",
    "            # iterating through through row while checking the row is income or expense and performing add method\n",
    "        else:\n",
    "            readable_csv_file=csv.reader(file)\n",
    "            for row in readable_csv_file:\n",
    "                if row[0]=='Income':\n",
    "                    total_income+=int(row[1])\n",
    "                elif row[0]=='Expense':\n",
    "                    total_expense+=int(row[1])\n",
    "    savings=total_income-total_expense\n",
    "    return savings\n",
    "# added another function to clear file if user wants to start a new savings account\n",
    "def clearfile():\n",
    "    if os.path.exists('personal_savings_tracker.csv'):\n",
    "        with open('personal_savings_tracker.csv',mode='w'):\n",
    "            pass\n",
    "            print(\"File cleared successfully\")\n",
    "    else:\n",
    "        print(\"no such file exists\")\n",
    "\n",
    "while True:\n",
    "    try:\n",
    "        print(\"Welcome to  Anvith solutions personal Expensive tracker\")\n",
    "        print(\"select below operations to perform operations\")\n",
    "        print(\"choose  1 : ADD Income\")\n",
    "        print(\"choose  2 : ADD Expense\")\n",
    "        print(\"choose  3 : Savings\")\n",
    "        print(\"choose  4 : to clear file  \")\n",
    "        print(\"choose  5 : to EXIT \")\n",
    "        choose_input=int(input(\"Choose the operation to be performed\"))\n",
    "        if choose_input==1:\n",
    "            Income=int(input(\"enter income amount\"))\n",
    "            add_transaction('Income',Income)\n",
    "            print(\"income added successfully\")\n",
    "        elif choose_input==2:\n",
    "            Expense=int(input(\"Enter Expense amount\"))\n",
    "            add_transaction('Expense',Expense)\n",
    "            print(\"Expense added successfully\")\n",
    "        elif  choose_input==3:\n",
    "            savings=savings_calculation()\n",
    "            print(f\"savings amount = {savings}\")\n",
    "        elif choose_input==5:\n",
    "            print(\"Opertion ended\")\n",
    "            break\n",
    "        elif choose_input==4:\n",
    "            clearfile()   \n",
    "        else:\n",
    "            \n",
    "            print(\"enter a valid input\")\n",
    "    except Exception as e:\n",
    "        print(\"invalid input please try with valid input\")\n",
    "        print(e)\n",
    "                              \n"
   ]
  },
  {
   "cell_type": "code",
   "execution_count": null,
   "id": "93a3893d-04e4-4148-9cde-0e5390f772a9",
   "metadata": {},
   "outputs": [],
   "source": []
  }
 ],
 "metadata": {
  "kernelspec": {
   "display_name": "Python 3 (ipykernel)",
   "language": "python",
   "name": "python3"
  },
  "language_info": {
   "codemirror_mode": {
    "name": "ipython",
    "version": 3
   },
   "file_extension": ".py",
   "mimetype": "text/x-python",
   "name": "python",
   "nbconvert_exporter": "python",
   "pygments_lexer": "ipython3",
   "version": "3.12.4"
  }
 },
 "nbformat": 4,
 "nbformat_minor": 5
}
