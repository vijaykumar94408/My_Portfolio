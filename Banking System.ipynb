{
 "cells": [
  {
   "cell_type": "code",
   "execution_count": 27,
   "id": "f9512440-91f2-4381-8809-febd24770e02",
   "metadata": {},
   "outputs": [
    {
     "name": "stdout",
     "output_type": "stream",
     "text": [
      "Welcome to VIJAY'S ATM machine\n",
      "Choose the operation to be perform: \n",
      "\n",
      "User_Available_Balance is:  {100000}\n"
     ]
    },
    {
     "name": "stdin",
     "output_type": "stream",
     "text": [
      " Enter Amount to be withdraw 40000\n"
     ]
    },
    {
     "name": "stdout",
     "output_type": "stream",
     "text": [
      "cannot access local variable 'amount_after_withdraw' where it is not associated with a value\n"
     ]
    },
    {
     "ename": "NameError",
     "evalue": "name 'ErrorAs' is not defined",
     "output_type": "error",
     "traceback": [
      "\u001b[1;31m---------------------------------------------------------------------------\u001b[0m",
      "\u001b[1;31mUnboundLocalError\u001b[0m                         Traceback (most recent call last)",
      "Cell \u001b[1;32mIn[27], line 19\u001b[0m, in \u001b[0;36mwithdraw_amount\u001b[1;34m()\u001b[0m\n\u001b[0;32m     18\u001b[0m \u001b[38;5;28;01mif\u001b[39;00m Withdraw_amount\u001b[38;5;241m>\u001b[39m\u001b[38;5;241m0\u001b[39m \u001b[38;5;129;01mor\u001b[39;00m Withdraw_amount\u001b[38;5;241m<\u001b[39m\u001b[38;5;241m=\u001b[39mUser_Available_BALANCE:\n\u001b[1;32m---> 19\u001b[0m      amount_after_withdraw\u001b[38;5;241m-\u001b[39m\u001b[38;5;241m=\u001b[39mWithdraw_amount\n\u001b[0;32m     20\u001b[0m      \u001b[38;5;28mprint\u001b[39m(\u001b[38;5;124mf\u001b[39m\u001b[38;5;124m\"\u001b[39m\u001b[38;5;124mCurrent balance after\u001b[39m\u001b[38;5;124m\"\u001b[39m,{Withdraw_amount},\u001b[38;5;124m\"\u001b[39m\u001b[38;5;124m is withdraw from\u001b[39m\u001b[38;5;124m\"\u001b[39m,{User_Available_BALANCE},\u001b[38;5;124m\"\u001b[39m\u001b[38;5;124mis\u001b[39m\u001b[38;5;124m\"\u001b[39m,{amount_after_withdraw})\n",
      "\u001b[1;31mUnboundLocalError\u001b[0m: cannot access local variable 'amount_after_withdraw' where it is not associated with a value",
      "\nDuring handling of the above exception, another exception occurred:\n",
      "\u001b[1;31mNameError\u001b[0m                                 Traceback (most recent call last)",
      "Cell \u001b[1;32mIn[27], line 48\u001b[0m\n\u001b[0;32m     37\u001b[0m         \u001b[38;5;28mprint\u001b[39m(e)\n\u001b[0;32m     47\u001b[0m Checking_available_Amount()\n\u001b[1;32m---> 48\u001b[0m withdraw_amount()\n\u001b[0;32m     49\u001b[0m deposit_amount()\n",
      "Cell \u001b[1;32mIn[27], line 23\u001b[0m, in \u001b[0;36mwithdraw_amount\u001b[1;34m()\u001b[0m\n\u001b[0;32m     21\u001b[0m \u001b[38;5;28;01mexcept\u001b[39;00m \u001b[38;5;167;01mException\u001b[39;00m \u001b[38;5;28;01mas\u001b[39;00m e:\n\u001b[0;32m     22\u001b[0m     \u001b[38;5;28mprint\u001b[39m(e)\n\u001b[1;32m---> 23\u001b[0m     \u001b[38;5;28;01mraise\u001b[39;00m ErrorAs(\u001b[38;5;124m\"\u001b[39m\u001b[38;5;124menter valid withdraw amount\u001b[39m\u001b[38;5;124m\"\u001b[39m)\n",
      "\u001b[1;31mNameError\u001b[0m: name 'ErrorAs' is not defined"
     ]
    }
   ],
   "source": [
    "class handling_custom_Exceptionss():\n",
    "    pass\n",
    "global User_Available_BALANCE\n",
    "User_Available_BALANCE=100000\n",
    "\n",
    "print(\"Welcome to VIJAY'S ATM machine\")\n",
    "print(\"Choose the operation to be perform: \")\n",
    "print(\"\")\n",
    "\n",
    "def Checking_available_Amount():\n",
    "    print(f\"User_Available_Balance is: \",{User_Available_BALANCE})   \n",
    "\n",
    "\n",
    "def withdraw_amount():\n",
    "    global User_Available_BALANCE\n",
    "    Withdraw_amount=int(input(\" Enter Amount to be withdraw\"))\n",
    "    try:\n",
    "        if Withdraw_amount>0 or Withdraw_amount<=User_Available_BALANCE:\n",
    "             amount_after_withdraw-=Withdraw_amount\n",
    "             print(f\"Current balance after\",{Withdraw_amount},\" is withdraw from\",{User_Available_BALANCE},\"is\",{amount_after_withdraw})\n",
    "    except Exception as e:\n",
    "        print(e)\n",
    "        raise ErrorAs(\"enter valid withdraw amount\")\n",
    "def deposit_amount():\n",
    "    global User_Available_BALANCE\n",
    "    deposited_amount=int(input(\"Enter the amount to be deposited\"))\n",
    "    \n",
    "    try:\n",
    "        if deposited_amount>=1:\n",
    "            User_Available_BALANCE+=deposited_amount\n",
    "            print(f\"The total amount after deposit is : \",{User_Available_BALANCE})\n",
    "        \n",
    "            \n",
    "        \n",
    "        \n",
    "    except Exception as e:\n",
    "        print(e)\n",
    "\n",
    "        \n",
    "        \n",
    "        \n",
    "           \n",
    "         \n",
    "    \n",
    "    \n",
    "\n",
    "Checking_available_Amount()\n",
    "withdraw_amount()\n",
    "deposit_amount()"
   ]
  },
  {
   "cell_type": "code",
   "execution_count": 15,
   "id": "262e7f6a-4a55-43bb-a47e-724b4e94827e",
   "metadata": {},
   "outputs": [
    {
     "name": "stdout",
     "output_type": "stream",
     "text": [
      "User Available Balance is: 100000\n"
     ]
    },
    {
     "ename": "KeyboardInterrupt",
     "evalue": "Interrupted by user",
     "output_type": "error",
     "traceback": [
      "\u001b[1;31m---------------------------------------------------------------------------\u001b[0m",
      "\u001b[1;31mKeyboardInterrupt\u001b[0m                         Traceback (most recent call last)",
      "Cell \u001b[1;32mIn[15], line 45\u001b[0m\n\u001b[0;32m     39\u001b[0m         \u001b[38;5;28mprint\u001b[39m(e)\n\u001b[0;32m     44\u001b[0m Checking_available_Amount()\n\u001b[1;32m---> 45\u001b[0m withdraw_amount()\n\u001b[0;32m     46\u001b[0m Checking_available_Amount()\n\u001b[0;32m     47\u001b[0m deposit_amount()\n",
      "Cell \u001b[1;32mIn[15], line 13\u001b[0m, in \u001b[0;36mwithdraw_amount\u001b[1;34m()\u001b[0m\n\u001b[0;32m     10\u001b[0m \u001b[38;5;28;01mdef\u001b[39;00m \u001b[38;5;21mwithdraw_amount\u001b[39m():\n\u001b[0;32m     12\u001b[0m     \u001b[38;5;28;01mglobal\u001b[39;00m User_Available_BALANCE\n\u001b[1;32m---> 13\u001b[0m     Withdraw_amount \u001b[38;5;241m=\u001b[39m \u001b[38;5;28mint\u001b[39m(\u001b[38;5;28minput\u001b[39m(\u001b[38;5;124m\"\u001b[39m\u001b[38;5;124mEnter Amount to withdraw: \u001b[39m\u001b[38;5;124m\"\u001b[39m))\n\u001b[0;32m     14\u001b[0m     \u001b[38;5;28;01mtry\u001b[39;00m:\n\u001b[0;32m     15\u001b[0m         \u001b[38;5;28;01mif\u001b[39;00m Withdraw_amount \u001b[38;5;241m<\u001b[39m\u001b[38;5;241m=\u001b[39m \u001b[38;5;241m0\u001b[39m:\n",
      "File \u001b[1;32m~\\anaconda3\\Lib\\site-packages\\ipykernel\\kernelbase.py:1262\u001b[0m, in \u001b[0;36mKernel.raw_input\u001b[1;34m(self, prompt)\u001b[0m\n\u001b[0;32m   1260\u001b[0m     msg \u001b[38;5;241m=\u001b[39m \u001b[38;5;124m\"\u001b[39m\u001b[38;5;124mraw_input was called, but this frontend does not support input requests.\u001b[39m\u001b[38;5;124m\"\u001b[39m\n\u001b[0;32m   1261\u001b[0m     \u001b[38;5;28;01mraise\u001b[39;00m StdinNotImplementedError(msg)\n\u001b[1;32m-> 1262\u001b[0m \u001b[38;5;28;01mreturn\u001b[39;00m \u001b[38;5;28mself\u001b[39m\u001b[38;5;241m.\u001b[39m_input_request(\n\u001b[0;32m   1263\u001b[0m     \u001b[38;5;28mstr\u001b[39m(prompt),\n\u001b[0;32m   1264\u001b[0m     \u001b[38;5;28mself\u001b[39m\u001b[38;5;241m.\u001b[39m_parent_ident[\u001b[38;5;124m\"\u001b[39m\u001b[38;5;124mshell\u001b[39m\u001b[38;5;124m\"\u001b[39m],\n\u001b[0;32m   1265\u001b[0m     \u001b[38;5;28mself\u001b[39m\u001b[38;5;241m.\u001b[39mget_parent(\u001b[38;5;124m\"\u001b[39m\u001b[38;5;124mshell\u001b[39m\u001b[38;5;124m\"\u001b[39m),\n\u001b[0;32m   1266\u001b[0m     password\u001b[38;5;241m=\u001b[39m\u001b[38;5;28;01mFalse\u001b[39;00m,\n\u001b[0;32m   1267\u001b[0m )\n",
      "File \u001b[1;32m~\\anaconda3\\Lib\\site-packages\\ipykernel\\kernelbase.py:1305\u001b[0m, in \u001b[0;36mKernel._input_request\u001b[1;34m(self, prompt, ident, parent, password)\u001b[0m\n\u001b[0;32m   1302\u001b[0m \u001b[38;5;28;01mexcept\u001b[39;00m \u001b[38;5;167;01mKeyboardInterrupt\u001b[39;00m:\n\u001b[0;32m   1303\u001b[0m     \u001b[38;5;66;03m# re-raise KeyboardInterrupt, to truncate traceback\u001b[39;00m\n\u001b[0;32m   1304\u001b[0m     msg \u001b[38;5;241m=\u001b[39m \u001b[38;5;124m\"\u001b[39m\u001b[38;5;124mInterrupted by user\u001b[39m\u001b[38;5;124m\"\u001b[39m\n\u001b[1;32m-> 1305\u001b[0m     \u001b[38;5;28;01mraise\u001b[39;00m \u001b[38;5;167;01mKeyboardInterrupt\u001b[39;00m(msg) \u001b[38;5;28;01mfrom\u001b[39;00m \u001b[38;5;28;01mNone\u001b[39;00m\n\u001b[0;32m   1306\u001b[0m \u001b[38;5;28;01mexcept\u001b[39;00m \u001b[38;5;167;01mException\u001b[39;00m:\n\u001b[0;32m   1307\u001b[0m     \u001b[38;5;28mself\u001b[39m\u001b[38;5;241m.\u001b[39mlog\u001b[38;5;241m.\u001b[39mwarning(\u001b[38;5;124m\"\u001b[39m\u001b[38;5;124mInvalid Message:\u001b[39m\u001b[38;5;124m\"\u001b[39m, exc_info\u001b[38;5;241m=\u001b[39m\u001b[38;5;28;01mTrue\u001b[39;00m)\n",
      "\u001b[1;31mKeyboardInterrupt\u001b[0m: Interrupted by user"
     ]
    }
   ],
   "source": [
    "class CustomError(Exception):\n",
    "    pass\n",
    "\n",
    "global User_Available_BALANCE\n",
    "User_Available_BALANCE = 100000\n",
    "\n",
    "def Checking_available_Amount():\n",
    "    print(f\"User Available Balance is: {User_Available_BALANCE}\")\n",
    "\n",
    "def withdraw_amount():\n",
    "    \n",
    "    global User_Available_BALANCE\n",
    "    Withdraw_amount = int(input(\"Enter Amount to withdraw: \"))\n",
    "    try:\n",
    "        if Withdraw_amount <= 0:\n",
    "            raise CustomError(\"Withdrawal amount must be positive.\")\n",
    "        if Withdraw_amount > User_Available_BALANCE:\n",
    "            raise CustomError(\"Insufficient balance.\")\n",
    "        \n",
    "        User_Available_BALANCE -= Withdraw_amount\n",
    "        print(f\"{Withdraw_amount} has been withdrawn. Current balance is: {User_Available_BALANCE}\")\n",
    "\n",
    "    except CustomError as e:\n",
    "        print(e)\n",
    "\n",
    "def deposit_amount():\n",
    "    global User_Available_BALANCE\n",
    "    deposited_amount = int(input(\"Enter the amount to deposit: \"))\n",
    "    \n",
    "    try:\n",
    "        if deposited_amount <= 0:\n",
    "            raise CustomError(\"Deposit amount must be positive.\")\n",
    "        \n",
    "        User_Available_BALANCE += deposited_amount\n",
    "        print(f\"{deposited_amount} has been deposited. Current balance is: {User_Available_BALANCE}\")\n",
    "\n",
    "    except CustomError as e:\n",
    "        \n",
    "        print(e)\n",
    "\n",
    "\n",
    "\n",
    "\n",
    "Checking_available_Amount()\n",
    "withdraw_amount()\n",
    "Checking_available_Amount()\n",
    "deposit_amount()\n",
    "Checking_available_Amount()\n"
   ]
  },
  {
   "cell_type": "code",
   "execution_count": 15,
   "id": "5981a1b3-6ca1-4ac1-8ae0-2ae69de195c4",
   "metadata": {},
   "outputs": [
    {
     "name": "stdout",
     "output_type": "stream",
     "text": [
      "Welcome to VIJAY'S ATM machine\n",
      "Choose the operation to perform:\n",
      "1.Balance Enquiry\n",
      "2.Withdraw Amount\n",
      "3.Deposit Amount\n"
     ]
    },
    {
     "name": "stdin",
     "output_type": "stream",
     "text": [
      "choose a operation listed above jh\n"
     ]
    },
    {
     "name": "stdout",
     "output_type": "stream",
     "text": [
      "invalid literal for int() with base 10: 'jh'\n"
     ]
    },
    {
     "name": "stdin",
     "output_type": "stream",
     "text": [
      "enter ABC for another transaction/  DEF to exist abc\n"
     ]
    },
    {
     "name": "stdout",
     "output_type": "stream",
     "text": [
      "Welcome to VIJAY'S ATM machine\n",
      "Choose the operation to perform:\n",
      "1.Balance Enquiry\n",
      "2.Withdraw Amount\n",
      "3.Deposit Amount\n"
     ]
    },
    {
     "name": "stdin",
     "output_type": "stream",
     "text": [
      "choose a operation listed above 1\n"
     ]
    },
    {
     "name": "stdout",
     "output_type": "stream",
     "text": [
      "Current_Balance is:  100000\n"
     ]
    },
    {
     "name": "stdin",
     "output_type": "stream",
     "text": [
      "enter ABC for another transaction/  DEF to exist abc\n"
     ]
    },
    {
     "name": "stdout",
     "output_type": "stream",
     "text": [
      "Welcome to VIJAY'S ATM machine\n",
      "Choose the operation to perform:\n",
      "1.Balance Enquiry\n",
      "2.Withdraw Amount\n",
      "3.Deposit Amount\n"
     ]
    },
    {
     "name": "stdin",
     "output_type": "stream",
     "text": [
      "choose a operation listed above 2\n",
      "enter amount to be withdrawn from current balance 20000\n"
     ]
    },
    {
     "name": "stdout",
     "output_type": "stream",
     "text": [
      "Current_Balance : 80000after withdrawn amount of 20000\n"
     ]
    },
    {
     "name": "stdin",
     "output_type": "stream",
     "text": [
      "enter ABC for another transaction/  DEF to exist abc\n"
     ]
    },
    {
     "name": "stdout",
     "output_type": "stream",
     "text": [
      "Welcome to VIJAY'S ATM machine\n",
      "Choose the operation to perform:\n",
      "1.Balance Enquiry\n",
      "2.Withdraw Amount\n",
      "3.Deposit Amount\n"
     ]
    },
    {
     "name": "stdin",
     "output_type": "stream",
     "text": [
      "choose a operation listed above 1\n"
     ]
    },
    {
     "name": "stdout",
     "output_type": "stream",
     "text": [
      "Current_Balance is:  80000\n"
     ]
    },
    {
     "name": "stdin",
     "output_type": "stream",
     "text": [
      "enter ABC for another transaction/  DEF to exist abc\n"
     ]
    },
    {
     "name": "stdout",
     "output_type": "stream",
     "text": [
      "Welcome to VIJAY'S ATM machine\n",
      "Choose the operation to perform:\n",
      "1.Balance Enquiry\n",
      "2.Withdraw Amount\n",
      "3.Deposit Amount\n"
     ]
    },
    {
     "name": "stdin",
     "output_type": "stream",
     "text": [
      "choose a operation listed above 3\n",
      "enter amount to deposit 40000\n"
     ]
    },
    {
     "name": "stdout",
     "output_type": "stream",
     "text": [
      "Current_Balance : 120000after deposit of 40000\n"
     ]
    },
    {
     "name": "stdin",
     "output_type": "stream",
     "text": [
      "enter ABC for another transaction/  DEF to exist dfg\n"
     ]
    }
   ],
   "source": [
    "current_balance=100000# assigned a value to global variable\n",
    "\n",
    "def Banking_Project():# defined fucntion here\n",
    "    global current_balance #declaring global variable to reuse in multiple function\n",
    "\n",
    "   \n",
    "while True:#loop repeats untill we break\n",
    "    \n",
    "    try:#except handling \n",
    "        \n",
    "        \n",
    "        print(\"Welcome to VIJAY'S ATM machine\")\n",
    "        print(\"Choose the operation to perform:\")\n",
    "        print(\"1.Balance Enquiry\")\n",
    "        print(\"2.Withdraw Amount\")\n",
    "        print(\"3.Deposit Amount\")\n",
    "        choice_input=int(input(\"choose a operation listed above\"))#taking input from user to choose operation for 1,2,3\n",
    "        \n",
    "        if choice_input==1:\n",
    "            #current_balance\n",
    "            \n",
    "            print(\"Current_Balance is: \",current_balance)\n",
    "            \n",
    "        elif choice_input==2:# for knowing current amount after withdrawn operation\n",
    "            \n",
    "            try:\n",
    "                withdrawn_amount=int(input(\"enter amount to be withdrawn from current balance\"))\n",
    "                if withdrawn_amount<0 or withdrawn_amount>current_balance:\n",
    "                    print(\"entered amount is not valid, please enter valid amount\")\n",
    "                else:\n",
    "                    \n",
    "                    current_balance=current_balance-withdrawn_amount\n",
    "                    print(f\"Current_Balance : {current_balance}after withdrawn amount of {withdrawn_amount}\")\n",
    "                    \n",
    "            except Exception as e:\n",
    "                print(e)\n",
    "        elif  choice_input==3: #for knowing curret amount after deposting amount\n",
    "            \n",
    "            \n",
    "            try:\n",
    "                Amount_to_deposit=int(input(\"enter amount to deposit\"))\n",
    "                if Amount_to_deposit<0:\n",
    "                    print(\"invalid amount!\")\n",
    "                else:\n",
    "                    current_balance=current_balance+Amount_to_deposit\n",
    "                    print(f\"Current_Balance : {current_balance}after deposit of {Amount_to_deposit}\")\n",
    "                    \n",
    "            except Exception as e:\n",
    "                print(e)\n",
    "        else:\n",
    "            print(\"enter an invalid operation choice\")\n",
    "    except Exception as e:\n",
    "        print(e)\n",
    "        #here asking to user whether to exit from operation or to continue for next operation, i used strip and upper method \n",
    "    another_transaction=input(\"enter ABC for another transaction/  DEF to exist\").strip().upper()\n",
    "    if another_transaction!=\"ABC\":\n",
    "        break\n",
    "        \n",
    "\n",
    "Banking_Project()# calling function to run program"
   ]
  },
  {
   "cell_type": "code",
   "execution_count": null,
   "id": "d629e5c0-9586-4fe5-9b54-923507a56663",
   "metadata": {},
   "outputs": [],
   "source": []
  },
  {
   "cell_type": "code",
   "execution_count": null,
   "id": "7e1ce46f-b3ec-401e-bdfa-361d0d46bac4",
   "metadata": {},
   "outputs": [],
   "source": []
  }
 ],
 "metadata": {
  "kernelspec": {
   "display_name": "Python 3 (ipykernel)",
   "language": "python",
   "name": "python3"
  },
  "language_info": {
   "codemirror_mode": {
    "name": "ipython",
    "version": 3
   },
   "file_extension": ".py",
   "mimetype": "text/x-python",
   "name": "python",
   "nbconvert_exporter": "python",
   "pygments_lexer": "ipython3",
   "version": "3.12.4"
  }
 },
 "nbformat": 4,
 "nbformat_minor": 5
}
