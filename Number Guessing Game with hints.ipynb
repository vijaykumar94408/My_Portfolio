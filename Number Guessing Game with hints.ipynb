{
 "cells": [
  {
   "cell_type": "markdown",
   "id": "5499793f-c84b-425c-bc0c-57e6a49746d8",
   "metadata": {},
   "source": [
    "# Advanced  Number guessing game"
   ]
  },
  {
   "cell_type": "code",
   "execution_count": null,
   "id": "f073165c-20a0-4dde-9486-86b321f25f8d",
   "metadata": {},
   "outputs": [
    {
     "name": "stdout",
     "output_type": "stream",
     "text": [
      "14\n"
     ]
    }
   ],
   "source": [
    "import random  #  here i am Import the random module\n",
    "\n",
    "#  i am Generating  a random number between 1 and 20\n",
    "system_generated_number = random.randint(1, 20)\n",
    "print(system_generated_number) #i am printing generating number \n",
    "\n",
    "#defining a function \n",
    "def advanced_random_guess_number():\n",
    "    attempts = 0  # tracking number of attepts\n",
    "    score = 100  # Starting score, decreases with each wrong guess\n",
    "    \n",
    "    while True:\n",
    "        try:\n",
    "            # getting user inputs from user\n",
    "            user_guessed_number = int(input(\"Enter a random guess number between 1 and 20: \"))\n",
    "            differnce_number = abs(user_guessed_number - system_generated_number)  # Absolute difference\n",
    "\n",
    "            #if user guess is correct print this\n",
    "            if differnce_number == 0:\n",
    "                print(f\"You win! Hurrahhh! You guessed the correct number in {attempts} attempts.\")\n",
    "                break  # Exit the loop since the user won\n",
    "\n",
    "            # Provide hints based on the difference which made by user\n",
    "            elif differnce_number <= 2:\n",
    "                print(\"Very hot! You are very close!\")\n",
    "            elif differnce_number <= 5:\n",
    "                print(\"Warm! You're getting closer.\")\n",
    "            elif differnce_number <= 10:\n",
    "                print(\"Cool. You're not too far.\")\n",
    "            else:\n",
    "                print(\"Too cold! You're far from the correct number.\")\n",
    "\n",
    "            # Decrease score and increment attempts\n",
    "            score -= 10\n",
    "            attempts += 1\n",
    "\n",
    "        except ValueError:\n",
    "            print(\"Invalid input! Please enter a valid number.\")\n",
    "\n",
    "    print(f\"Your final score is {score}\")\n",
    "\n",
    "# Calling the function \n",
    "advanced_random_guess_number()\n"
   ]
  },
  {
   "cell_type": "code",
   "execution_count": null,
   "id": "51fa7c39-8d0e-4efc-9cd8-71ecfe246d13",
   "metadata": {},
   "outputs": [],
   "source": []
  }
 ],
 "metadata": {
  "kernelspec": {
   "display_name": "Python 3 (ipykernel)",
   "language": "python",
   "name": "python3"
  },
  "language_info": {
   "codemirror_mode": {
    "name": "ipython",
    "version": 3
   },
   "file_extension": ".py",
   "mimetype": "text/x-python",
   "name": "python",
   "nbconvert_exporter": "python",
   "pygments_lexer": "ipython3",
   "version": "3.12.4"
  }
 },
 "nbformat": 4,
 "nbformat_minor": 5
}
