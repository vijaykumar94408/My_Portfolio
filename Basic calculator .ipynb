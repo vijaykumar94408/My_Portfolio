{
 "cells": [
  {
   "cell_type": "markdown",
   "id": "c4e5f121-7dd3-4482-b89f-7f041cc6ba49",
   "metadata": {},
   "source": [
    "# basic calculator"
   ]
  },
  {
   "cell_type": "code",
   "execution_count": 2,
   "id": "2f9c482c-879c-4439-a587-828cb3ae61a7",
   "metadata": {},
   "outputs": [
    {
     "name": "stdin",
     "output_type": "stream",
     "text": [
      "Enter the first number:  34\n",
      "Enter the second number:  43\n"
     ]
    },
    {
     "name": "stdout",
     "output_type": "stream",
     "text": [
      "Select the operation you want to perform:\n",
      "1. Addition\n",
      "2. Subtraction\n",
      "3. Multiplication\n",
      "4. Division\n",
      "5. Floor Division\n"
     ]
    },
    {
     "name": "stdin",
     "output_type": "stream",
     "text": [
      "Enter your choice (1, 2, 3, 4, 5):  4\n"
     ]
    },
    {
     "name": "stdout",
     "output_type": "stream",
     "text": [
      "The result of division is: 0.7906976744186046\n"
     ]
    }
   ],
   "source": [
    "# Taking two numeric inputs from the user\n",
    "num1 = float(input(\"Enter the first number: \"))\n",
    "num2 = float(input(\"Enter the second number: \"))\n",
    "\n",
    "# Display available operations\n",
    "print(\"Select the operation you want to perform:\")\n",
    "print(\"1. Addition\")\n",
    "print(\"2. Subtraction\")\n",
    "print(\"3. Multiplication\")\n",
    "print(\"4. Division\")\n",
    "print(\"5. Floor Division\")\n",
    "\n",
    "# User selects an operation\n",
    "operation = input(\"Enter your choice (1, 2, 3, 4, 5): \")\n",
    "\n",
    "try:\n",
    "    if operation == '1':\n",
    "        result = num1 + num2\n",
    "        print(\"The result of addition is:\", result)\n",
    "    elif operation == '2':\n",
    "        result = num1 - num2\n",
    "        print(\"The result of subtraction is:\", result)\n",
    "    elif operation == '3':\n",
    "        result = num1 * num2\n",
    "        print(\"The result of multiplication is:\", result)\n",
    "    elif operation == '4':\n",
    "        if num2 == 0:\n",
    "            raise ZeroDivisionError(\"Error: Cannot divide by zero.\")\n",
    "        result = num1 / num2\n",
    "        print(\"The result of division is:\", result)\n",
    "    elif operation == '5':\n",
    "        result = num1 // num2\n",
    "        print(\"The result of floor division is:\", result)\n",
    "    else:\n",
    "        print(\"Invalid choice. Please select a valid operation.\")\n",
    "except ZeroDivisionError as e:\n",
    "    print(e)\n",
    "except ValueError:\n",
    "    print(\"Invalid input. Please enter numeric values.\")\n"
   ]
  },
  {
   "cell_type": "code",
   "execution_count": null,
   "id": "5471c7fe-c07c-4609-a71e-84af28418f27",
   "metadata": {},
   "outputs": [],
   "source": []
  }
 ],
 "metadata": {
  "kernelspec": {
   "display_name": "Python 3 (ipykernel)",
   "language": "python",
   "name": "python3"
  },
  "language_info": {
   "codemirror_mode": {
    "name": "ipython",
    "version": 3
   },
   "file_extension": ".py",
   "mimetype": "text/x-python",
   "name": "python",
   "nbconvert_exporter": "python",
   "pygments_lexer": "ipython3",
   "version": "3.12.4"
  }
 },
 "nbformat": 4,
 "nbformat_minor": 5
}
