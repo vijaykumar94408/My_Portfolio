{
 "cells": [
  {
   "cell_type": "code",
   "execution_count": 11,
   "id": "e71315d1-2b95-4ad1-950a-cd6833ac6221",
   "metadata": {},
   "outputs": [
    {
     "name": "stdout",
     "output_type": "stream",
     "text": [
      "\n",
      "--- Customer Feedback Summary Report ---\n",
      "Total Feedbacks: 11\n",
      "Positive Feedbacks: 6 (54.55%)\n",
      "Negative Feedbacks: 1 (9.09%)\n",
      "Neutral Feedbacks: 4 (36.36%)\n",
      "------------------------------------------\n"
     ]
    }
   ],
   "source": [
    "import os\n",
    "from textblob import TextBlob\n",
    "import csv\n",
    "\n",
    "# Function to read customer feedback from a file\n",
    "def read_feedback(file_path):\n",
    "    feedbacks = []\n",
    "    try:\n",
    "        if not os.path.exists(file_path):\n",
    "            print(f\"No feedback file found at {file_path}.\")\n",
    "            return feedbacks\n",
    "        \n",
    "        with open(file_path, 'r', encoding='utf-8') as file:\n",
    "            reader = csv.reader(file)\n",
    "            for row in reader:\n",
    "                if row:  # Skip empty rows\n",
    "                    feedbacks.append(row[0])  # Assuming feedback is in the first column\n",
    "    except FileNotFoundError:\n",
    "        print(f\"File {file_path} not found.\")\n",
    "    except Exception as e:\n",
    "        print(f\"An error occurred while reading the file: {e}\")\n",
    "    \n",
    "    return feedbacks\n",
    "\n",
    "# Function to analyze sentiment of feedback\n",
    "def analyze_sentiment(feedbacks):\n",
    "    positive, negative, neutral = 0, 0, 0\n",
    "    try:\n",
    "        for feedback in feedbacks:\n",
    "            analysis = TextBlob(feedback)\n",
    "            # Classify sentiment based on polarity\n",
    "            if analysis.sentiment.polarity > 0:\n",
    "                positive += 1\n",
    "            elif analysis.sentiment.polarity < 0:\n",
    "                negative += 1\n",
    "            else:\n",
    "                neutral += 1\n",
    "    except Exception as e:\n",
    "        print(f\"An error occurred during sentiment analysis: {e}\")\n",
    "    \n",
    "    return positive, negative, neutral\n",
    "\n",
    "# Function to generate summary report\n",
    "def generate_report(positive, negative, neutral, total):\n",
    "    try:\n",
    "        print(\"\\n--- Customer Feedback Summary Report ---\")\n",
    "        print(f\"Total Feedbacks: {total}\")\n",
    "        print(f\"Positive Feedbacks: {positive} ({(positive / total) * 100:.2f}%)\")\n",
    "        print(f\"Negative Feedbacks: {negative} ({(negative / total) * 100:.2f}%)\")\n",
    "        print(f\"Neutral Feedbacks: {neutral} ({(neutral / total) * 100:.2f}%)\")\n",
    "        print(\"------------------------------------------\")\n",
    "    except ZeroDivisionError:\n",
    "        print(\"No feedback to analyze.\")\n",
    "    except Exception as e:\n",
    "        print(f\"An error occurred while generating the report: {e}\")\n",
    "\n",
    "# Main function\n",
    "def feedback_aggregator():\n",
    "    file_path = \"customer_feedback.csv\"  # Path to your feedback file\n",
    "    try:\n",
    "        feedbacks = read_feedback(file_path)\n",
    "        \n",
    "        if not feedbacks:\n",
    "            return\n",
    "        \n",
    "        positive, negative, neutral = analyze_sentiment(feedbacks)\n",
    "        total = len(feedbacks)\n",
    "        generate_report(positive, negative, neutral, total)\n",
    "    except Exception as e:\n",
    "        print(f\"An error occurred: {e}\")\n",
    "\n",
    "# Run the feedback aggregator\n",
    "feedback_aggregator()\n"
   ]
  },
  {
   "cell_type": "code",
   "execution_count": null,
   "id": "a71da652-af3e-4d36-aeb0-9f604a6c2cd3",
   "metadata": {},
   "outputs": [],
   "source": []
  }
 ],
 "metadata": {
  "kernelspec": {
   "display_name": "Python 3 (ipykernel)",
   "language": "python",
   "name": "python3"
  },
  "language_info": {
   "codemirror_mode": {
    "name": "ipython",
    "version": 3
   },
   "file_extension": ".py",
   "mimetype": "text/x-python",
   "name": "python",
   "nbconvert_exporter": "python",
   "pygments_lexer": "ipython3",
   "version": "3.12.4"
  }
 },
 "nbformat": 4,
 "nbformat_minor": 5
}
