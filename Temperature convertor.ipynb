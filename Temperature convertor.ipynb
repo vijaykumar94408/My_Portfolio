{
 "cells": [
  {
   "cell_type": "code",
   "execution_count": 1,
   "id": "12bbf79d-ec85-49e3-a439-da608284c0e8",
   "metadata": {},
   "outputs": [
    {
     "name": "stdout",
     "output_type": "stream",
     "text": [
      " This program is to temperature Conversion Tool\n",
      "Convertion between Celsius (C), Fahrenheit (F), and Kelvin (K)\n"
     ]
    },
    {
     "name": "stdin",
     "output_type": "stream",
     "text": [
      "Specify the current unit (C, F, K):  c\n",
      "Enter the temperature value:  34\n",
      "Specify the target unit (C, F, K):  f\n"
     ]
    },
    {
     "name": "stdout",
     "output_type": "stream",
     "text": [
      "34.0 C is equal to 93.20 F\n"
     ]
    }
   ],
   "source": [
    "# here i used custome exception\n",
    "class UnitError_exception(Exception):\n",
    "    pass\n",
    "\n",
    "print(\" This program is to temperature Conversion Tool\")\n",
    "print(\"Convertion between Celsius (C), Fahrenheit (F), and Kelvin (K)\")\n",
    "\n",
    "while True:\n",
    "    try: #entering input from user and selecting the type of conversion to convert \n",
    "        unit_from = input(\"Specify the current unit (C, F, K): \").upper()\n",
    "        temp = float(input(\"Enter the temperature value: \"))\n",
    "        unit_to = input(\"Specify the target unit (C, F, K): \").upper()\n",
    "#if invalid conversion is selected showing error to user to select a valid conversion\n",
    "        if unit_from not in ['C', 'F', 'K'] or unit_to not in ['C', 'F', 'K']:\n",
    "            raise UnitError(\"Invalid unit provided. Please use C, F, or K.\")\n",
    "# coversion \n",
    "        if unit_from == unit_to:\n",
    "            converted_temp = temp\n",
    "        elif unit_from == 'C':\n",
    "            if unit_to == 'F':\n",
    "                converted_temp = (temp * 9/5) + 32\n",
    "            elif unit_to == 'K':\n",
    "                converted_temp = temp + 273.15\n",
    "        elif unit_from == 'F':\n",
    "            if unit_to == 'C':\n",
    "                converted_temp = (temp - 32) * 5/9\n",
    "            elif unit_to == 'K':\n",
    "                converted_temp = (temp - 32) * 5/9 + 273.15\n",
    "        elif unit_from == 'K':\n",
    "            if unit_to == 'C':\n",
    "                converted_temp = temp - 273.15\n",
    "            elif unit_to == 'F':\n",
    "                converted_temp = (temp - 273.15) * 9/5 + 32\n",
    "\n",
    "        print(f\"{temp} {unit_from} is equal to {converted_temp:.2f} {unit_to}\")\n",
    "        break\n",
    "    \n",
    "    except UnitError as e:\n",
    "        print(e)\n",
    "    except ValueError:\n",
    "        print(\"Invalid input. Please enter a numeric value for the temperature.\")\n"
   ]
  },
  {
   "cell_type": "code",
   "execution_count": null,
   "id": "dfabb9ec-5e6f-460e-9c4e-768c1234d5cd",
   "metadata": {},
   "outputs": [],
   "source": []
  }
 ],
 "metadata": {
  "kernelspec": {
   "display_name": "Python 3 (ipykernel)",
   "language": "python",
   "name": "python3"
  },
  "language_info": {
   "codemirror_mode": {
    "name": "ipython",
    "version": 3
   },
   "file_extension": ".py",
   "mimetype": "text/x-python",
   "name": "python",
   "nbconvert_exporter": "python",
   "pygments_lexer": "ipython3",
   "version": "3.12.4"
  }
 },
 "nbformat": 4,
 "nbformat_minor": 5
}
