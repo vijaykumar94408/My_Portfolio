{
 "cells": [
  {
   "cell_type": "code",
   "execution_count": 33,
   "id": "26c02903-2051-469d-99fb-a03063f103d6",
   "metadata": {},
   "outputs": [
    {
     "ename": "IndentationError",
     "evalue": "expected an indented block after 'else' statement on line 22 (3705026231.py, line 26)",
     "output_type": "error",
     "traceback": [
      "\u001b[1;36m  Cell \u001b[1;32mIn[33], line 26\u001b[1;36m\u001b[0m\n\u001b[1;33m    input1 = int(input(\"Enter first value (input1): \"))\u001b[0m\n\u001b[1;37m    ^\u001b[0m\n\u001b[1;31mIndentationError\u001b[0m\u001b[1;31m:\u001b[0m expected an indented block after 'else' statement on line 22\n"
     ]
    }
   ],
   "source": [
    "class error_showing_handling(Exception): # here custom exception is implemented to raise a error as per my convient\n",
    "    pass\n",
    "\n",
    "def error_handling_calculator():#defining a function name error_handling_calculator \n",
    "\n",
    "    # i am implimenting while loop untill user selcted to break the  loop \n",
    "    while True:\n",
    "        try:# from here user can select operation to be performed  \n",
    "            print(\"Select an operation to perform:\")\n",
    "            print(\"1. Addition\")\n",
    "            print(\"2. Subtraction\")\n",
    "            print(\"3. Multiplication\")\n",
    "            print(\"4. Division\")\n",
    "            print(\"5. Floor division\")\n",
    "            #  user should be able to choosing operation to be performed\n",
    "            choose_input = int(input(\"Choose an option: \"))\n",
    "            try:\n",
    "                if choose_input<=0 or choose_input>5:#if choose input operation is not from between 1 and 5 \n",
    "                    print(\"Invalid operation choice. Please choose a valid operation (1-5).\")\n",
    "                   \n",
    "                    continue\n",
    "            except Exception as e:\n",
    "                print(e)\n",
    "            \n",
    "            \n",
    "            #taking inputs from user from input1 and input2\n",
    "                input1 = int(input(\"Enter first value (input1): \"))\n",
    "                input2 = int(input(\"Enter second value (input2): \"))\n",
    "           \n",
    "                if choose_input == 1:# additon operation will be performed \n",
    "                    result = input1 + input2\n",
    "                    print(f\"The addition of {input1} and {input2} is: {result}\")\n",
    "                elif choose_input == 2:#subtraction operation will be performed \n",
    "                    result = input1 - input2\n",
    "                    print(f\"The subtraction of {input1} and {input2} is: {result}\")\n",
    "                elif choose_input == 3:#multiplication operation to be performed \n",
    "                    result = input1 * input2\n",
    "                    print(f\"The multiplication of {input1} and {input2} is: {result}\")\n",
    "                elif choose_input == 4:#division operation to be performed \n",
    "                    if input2 == 0: #if input2 is given as 0 it will rasie a error \n",
    "                    raise error_showin_handling(\"TypeError.\")\n",
    "            \n",
    "                    result = input1 / input2\n",
    "                    print(f\"The division of {input1} and {input2} is: {result}\")\n",
    "                elif choose_input == 5:#floor division operation to be performed \n",
    "                    if input2 == 0: #if input2 is given as 0 it will rasie a error\n",
    "                    raise error_showin_handling(\"Floor division by zero is not allowed.\")\n",
    "                    result = input1 // input2 \n",
    "                    print(f\"The floor division of {input1} and {input2} is: {result}\")\n",
    "                else:\n",
    "                    print(\"enter option from above listed\")\n",
    "                \n",
    "                \n",
    "                    \n",
    "                    \n",
    "                    \n",
    "                    \n",
    "                     print(\"strings are not allowed\")\n",
    "            #this line will arise a exception if try block has a error\n",
    "                except ValueError:\n",
    "                  \n",
    "                      print(\"Invalid input. Please enter a number for the operation.\")\n",
    "                except error_showin_handling as e:\n",
    "                  \n",
    "                      print(e)\n",
    "#this block code will permit user to perform next oepration or to be exist form operation\n",
    "                again=input(\"if you want to do another arthematic operation? : yes\"/n,\"press any ker to exit\").strip().lower()#every input from here will be converted to lowercase\n",
    "                if again!='yes':\n",
    "                  \n",
    "                    break\n",
    "\n",
    "#  here we are Calling the calculator function\n",
    "error_handling_calculator()\n"
   ]
  },
  {
   "cell_type": "code",
   "execution_count": null,
   "id": "3cbdbcd0-560b-4d53-b565-ddc3a93cce63",
   "metadata": {},
   "outputs": [],
   "source": []
  },
  {
   "cell_type": "code",
   "execution_count": 40,
   "id": "f3d95597-69dc-4c63-a6a4-34182a4e29c9",
   "metadata": {},
   "outputs": [
    {
     "name": "stdout",
     "output_type": "stream",
     "text": [
      "Select an operation to perform:\n",
      "1. Addition\n",
      "2. Subtraction\n",
      "3. Multiplication\n",
      "4. Division\n",
      "5. Floor division\n"
     ]
    },
    {
     "name": "stdin",
     "output_type": "stream",
     "text": [
      "Choose an option:  fs\n"
     ]
    },
    {
     "name": "stdout",
     "output_type": "stream",
     "text": [
      "Invalid input. Please enter valid numbers.\n"
     ]
    },
    {
     "name": "stdin",
     "output_type": "stream",
     "text": [
      "Do you want to perform another arithmetic operation? (yes to continue,  press anything else to exit):  yes\n"
     ]
    },
    {
     "name": "stdout",
     "output_type": "stream",
     "text": [
      "Select an operation to perform:\n",
      "1. Addition\n",
      "2. Subtraction\n",
      "3. Multiplication\n",
      "4. Division\n",
      "5. Floor division\n"
     ]
    },
    {
     "name": "stdin",
     "output_type": "stream",
     "text": [
      "Choose an option:  43\n"
     ]
    },
    {
     "name": "stdout",
     "output_type": "stream",
     "text": [
      "Invalid operation choice. Please choose a valid operation (1-5).\n",
      "Select an operation to perform:\n",
      "1. Addition\n",
      "2. Subtraction\n",
      "3. Multiplication\n",
      "4. Division\n",
      "5. Floor division\n"
     ]
    },
    {
     "name": "stdin",
     "output_type": "stream",
     "text": [
      "Choose an option:  4\n",
      "Enter first value (input1):  45\n",
      "Enter second value (input2):  32\n"
     ]
    },
    {
     "name": "stdout",
     "output_type": "stream",
     "text": [
      "The division of 45 and 32 is: 1.40625\n"
     ]
    },
    {
     "name": "stdin",
     "output_type": "stream",
     "text": [
      "Do you want to perform another arithmetic operation? (yes to continue,  press anything else to exit):  yes\n"
     ]
    },
    {
     "name": "stdout",
     "output_type": "stream",
     "text": [
      "Select an operation to perform:\n",
      "1. Addition\n",
      "2. Subtraction\n",
      "3. Multiplication\n",
      "4. Division\n",
      "5. Floor division\n"
     ]
    },
    {
     "name": "stdin",
     "output_type": "stream",
     "text": [
      "Choose an option:  no\n"
     ]
    },
    {
     "name": "stdout",
     "output_type": "stream",
     "text": [
      "Invalid input. Please enter valid numbers.\n"
     ]
    },
    {
     "name": "stdin",
     "output_type": "stream",
     "text": [
      "Do you want to perform another arithmetic operation? (yes to continue,  press anything else to exit):  no\n"
     ]
    }
   ],
   "source": [
    "class error_showing_handling(Exception):  # Custom exception to raise an error as per convenience\n",
    "    pass\n",
    "\n",
    "def error_handling_calculator():  # Defining a function name error_handling_calculator\n",
    "\n",
    "    # Implementing a while loop until the user chooses to break the loop\n",
    "    while True:\n",
    "        try:\n",
    "            # Asking the user to select an operation to perform\n",
    "            print(\"Select an operation to perform:\")\n",
    "            print(\"1. Addition\")\n",
    "            print(\"2. Subtraction\")\n",
    "            print(\"3. Multiplication\")\n",
    "            print(\"4. Division\")\n",
    "            print(\"5. Floor division\")\n",
    "            \n",
    "            choose_input = int(input(\"Choose an option: \"))\n",
    "            \n",
    "            if choose_input <= 0 or choose_input > 5:  # If input operation is not between 1 and 5\n",
    "                print(\"Invalid operation choice. Please choose a valid operation (1-5).\")\n",
    "                continue  # Continue the loop for valid input\n",
    "\n",
    "            # Taking inputs from the user for input1 and input2\n",
    "            input1 = int(input(\"Enter first value (input1): \"))\n",
    "            input2 = int(input(\"Enter second value (input2): \"))\n",
    "\n",
    "            if choose_input == 1:  # Addition operation\n",
    "                result = input1 + input2\n",
    "                print(f\"The addition of {input1} and {input2} is: {result}\")\n",
    "            elif choose_input == 2:  # Subtraction operation\n",
    "                result = input1 - input2\n",
    "                print(f\"The subtraction of {input1} and {input2} is: {result}\")\n",
    "            elif choose_input == 3:  # Multiplication operation\n",
    "                result = input1 * input2\n",
    "                print(f\"The multiplication of {input1} and {input2} is: {result}\")\n",
    "            elif choose_input == 4:  # Division operation\n",
    "                if input2 == 0:  # Raise an error if second input is zero\n",
    "                    raise error_showing_handling(\"Division by zero is not allowed.\")\n",
    "                result = input1 / input2\n",
    "                print(f\"The division of {input1} and {input2} is: {result}\")\n",
    "            elif choose_input == 5:  # Floor division operation\n",
    "                if input2 == 0:  # Raise an error if second input is zero\n",
    "                    raise error_showing_handling(\"Floor division by zero is not allowed.\")\n",
    "                result = input1 // input2\n",
    "                print(f\"The floor division of {input1} and {input2} is: {result}\")\n",
    "            else:\n",
    "                print(\"Please enter an option from the list above.\")\n",
    "\n",
    "        except ValueError:  # Catching invalid input for non-integer values\n",
    "            print(\"Invalid input. Please enter valid numbers.\")\n",
    "        except error_showing_handling as e:  # Catching custom exceptions\n",
    "            print(e)\n",
    "        \n",
    "        # Asking the user if they want to perform another operation or exit\n",
    "        again = input(\"Do you want to perform another arithmetic operation? (yes to continue,  press anything else to exit): \").strip().lower()\n",
    "        if again != 'yes':\n",
    "            break\n",
    "\n",
    "# Calling the calculator function\n",
    "error_handling_calculator()\n"
   ]
  },
  {
   "cell_type": "code",
   "execution_count": null,
   "id": "1cd9d00d-edfc-4e57-a9e1-5f62072d6720",
   "metadata": {},
   "outputs": [],
   "source": [
    "\n",
    "    \n",
    "\n",
    "\n",
    "\n",
    " \n",
    "\n",
    "\n",
    "\n",
    "\n",
    "\n",
    "\n",
    "\n"
   ]
  },
  {
   "cell_type": "code",
   "execution_count": null,
   "id": "bf67cd54-300b-4e35-83d4-a006aa670770",
   "metadata": {},
   "outputs": [],
   "source": []
  },
  {
   "cell_type": "code",
   "execution_count": null,
   "id": "946a23e6-34bc-4e95-ad26-1c7791c41ba3",
   "metadata": {},
   "outputs": [],
   "source": []
  },
  {
   "cell_type": "code",
   "execution_count": null,
   "id": "948cee30-5c57-4263-8bc9-b6f568b86926",
   "metadata": {},
   "outputs": [],
   "source": []
  },
  {
   "cell_type": "code",
   "execution_count": null,
   "id": "7a04fea7-4b69-44aa-bd6d-fa45be46fdfb",
   "metadata": {},
   "outputs": [],
   "source": []
  },
  {
   "cell_type": "code",
   "execution_count": null,
   "id": "7ccedeab-3c36-42fd-845d-b3d9456baeac",
   "metadata": {},
   "outputs": [],
   "source": []
  },
  {
   "cell_type": "code",
   "execution_count": null,
   "id": "ead558e6-5996-4e2e-a1b6-fd9815c6ee74",
   "metadata": {},
   "outputs": [],
   "source": []
  },
  {
   "cell_type": "code",
   "execution_count": 6,
   "id": "48bd95cf-a915-4478-8020-88cf697d05cf",
   "metadata": {
    "scrolled": true
   },
   "outputs": [
    {
     "name": "stdout",
     "output_type": "stream",
     "text": [
      "[1, 8, 81, 1024, 15625]\n"
     ]
    }
   ],
   "source": []
  },
  {
   "cell_type": "code",
   "execution_count": 7,
   "id": "46097072-7fe8-4a7d-88a8-6735cc9983b8",
   "metadata": {},
   "outputs": [
    {
     "ename": "TypeError",
     "evalue": "filter expected 2 arguments, got 3",
     "output_type": "error",
     "traceback": [
      "\u001b[1;31m---------------------------------------------------------------------------\u001b[0m",
      "\u001b[1;31mTypeError\u001b[0m                                 Traceback (most recent call last)",
      "Cell \u001b[1;32mIn[7], line 3\u001b[0m\n\u001b[0;32m      1\u001b[0m numbers \u001b[38;5;241m=\u001b[39m [\u001b[38;5;241m1\u001b[39m, \u001b[38;5;241m2\u001b[39m, \u001b[38;5;241m3\u001b[39m, \u001b[38;5;241m4\u001b[39m, \u001b[38;5;241m5\u001b[39m,\u001b[38;5;241m6\u001b[39m,\u001b[38;5;241m7\u001b[39m,\u001b[38;5;241m8\u001b[39m,\u001b[38;5;241m9\u001b[39m]\n\u001b[0;32m      2\u001b[0m numbers2\u001b[38;5;241m=\u001b[39m[\u001b[38;5;241m2\u001b[39m,\u001b[38;5;241m3\u001b[39m,\u001b[38;5;241m4\u001b[39m,\u001b[38;5;241m5\u001b[39m,\u001b[38;5;241m6\u001b[39m,\u001b[38;5;241m23\u001b[39m,\u001b[38;5;241m27\u001b[39m,\u001b[38;5;241m31\u001b[39m,\u001b[38;5;241m11\u001b[39m,\u001b[38;5;241m13\u001b[39m,\u001b[38;5;241m234\u001b[39m,\u001b[38;5;241m17\u001b[39m,\u001b[38;5;241m22\u001b[39m,\u001b[38;5;241m44\u001b[39m,\u001b[38;5;241m46\u001b[39m]\n\u001b[1;32m----> 3\u001b[0m even_numbers\u001b[38;5;241m=\u001b[39m\u001b[38;5;28mlist\u001b[39m(\u001b[38;5;28mfilter\u001b[39m(\u001b[38;5;28;01mlambda\u001b[39;00m x:x\u001b[38;5;241m%\u001b[39m\u001b[38;5;241m2\u001b[39m\u001b[38;5;241m==\u001b[39m\u001b[38;5;241m0\u001b[39m,numbers,numbers))\n\u001b[0;32m      4\u001b[0m even_numbers\n",
      "\u001b[1;31mTypeError\u001b[0m: filter expected 2 arguments, got 3"
     ]
    }
   ],
   "source": []
  },
  {
   "cell_type": "code",
   "execution_count": null,
   "id": "0b6f447c-0909-482c-8581-b3d099cc91d3",
   "metadata": {},
   "outputs": [],
   "source": []
  },
  {
   "cell_type": "code",
   "execution_count": 38,
   "id": "57297ae2-f950-4b2e-aa31-4afd8f90d6c4",
   "metadata": {},
   "outputs": [
    {
     "ename": "IndentationError",
     "evalue": "unindent does not match any outer indentation level (<string>, line 8)",
     "output_type": "error",
     "traceback": [
      "\u001b[1;36m  File \u001b[1;32m<string>:8\u001b[1;36m\u001b[0m\n\u001b[1;33m    elif choose_input == 2:  # Subtraction operation\u001b[0m\n\u001b[1;37m                                                    ^\u001b[0m\n\u001b[1;31mIndentationError\u001b[0m\u001b[1;31m:\u001b[0m unindent does not match any outer indentation level\n"
     ]
    }
   ],
   "source": []
  },
  {
   "cell_type": "code",
   "execution_count": null,
   "id": "bfb14bdc-7b12-40c0-976a-64e3c7a4f6fb",
   "metadata": {},
   "outputs": [],
   "source": []
  }
 ],
 "metadata": {
  "kernelspec": {
   "display_name": "Python 3 (ipykernel)",
   "language": "python",
   "name": "python3"
  },
  "language_info": {
   "codemirror_mode": {
    "name": "ipython",
    "version": 3
   },
   "file_extension": ".py",
   "mimetype": "text/x-python",
   "name": "python",
   "nbconvert_exporter": "python",
   "pygments_lexer": "ipython3",
   "version": "3.12.4"
  }
 },
 "nbformat": 4,
 "nbformat_minor": 5
}
