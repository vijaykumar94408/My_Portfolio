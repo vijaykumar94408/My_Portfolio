{
 "cells": [
  {
   "cell_type": "code",
   "execution_count": 35,
   "id": "acd5b205-09ee-4758-9eb9-7b70075d0ec2",
   "metadata": {},
   "outputs": [
    {
     "name": "stdin",
     "output_type": "stream",
     "text": [
      "Enter score for  (0-100):  67\n",
      "Enter score for  (0-100):  88\n",
      "Enter score for  (0-100):  98\n"
     ]
    },
    {
     "name": "stdout",
     "output_type": "stream",
     "text": [
      "\n",
      "Average Score: 84.33333333333333\n",
      "Grade B\n",
      "Feedback: Good\n"
     ]
    }
   ],
   "source": [
    "# lists of subjects\n",
    "subjects = ['Maths', 'Science', 'English']\n",
    "#entered input subject scores are stored in this empty list \n",
    "scores = []\n",
    "# iterating subjects inputs in empty list \n",
    "for subject in subjects:\n",
    "    while True:\n",
    "        #using try and catch method to handle exceptions\n",
    "        try:\n",
    "            # taking  inputs from user\n",
    "            score = float(input(\"Enter score for  (0-100): \"))\n",
    "            #checking whether input is valid or not \n",
    "            if 0 <= score <= 100:\n",
    "                #after every inputs from user, inputs are stroing into empty list\n",
    "                scores.append(score)\n",
    "                break #here breaking while loop to not repeat\n",
    "            else:\n",
    "                print(\"Please enter a value between 0 and 100.\")\n",
    "        except Exception as e:\n",
    "            print(\"Invalid input, please enter a numeric value.\")\n",
    "\n",
    "total = sum(scores)  # calculating total sum of scores  \n",
    "average = total / len(subjects) #doing average and \n",
    "# then comparing the average score according to the grade and feedback and then printing final output\n",
    "if 90 <= average <= 100:\n",
    "    grade = 'A'\n",
    "    feedback = \"Excellent\"\n",
    "elif 80 <= average < 90:\n",
    "    grade = 'B'\n",
    "    feedback = \"Good\"\n",
    "elif 70 <= average < 80:\n",
    "    grade = 'C'\n",
    "    feedback = \"Better\"\n",
    "elif 60 <= average < 70:\n",
    "    grade = 'D'\n",
    "    feedback = \"Not Bad\"\n",
    "else:\n",
    "    grade = 'F'\n",
    "    feedback = \"Try Harder\"\n",
    "\n",
    "print(f\"\\nAverage Score:\",average)\n",
    "print(\"Grade\",grade)\n",
    "print(\"Feedback:\",feedback)\n"
   ]
  },
  {
   "cell_type": "markdown",
   "id": "3ce10cab-aec4-4fa9-bb7c-733b755c77de",
   "metadata": {},
   "source": []
  }
 ],
 "metadata": {
  "kernelspec": {
   "display_name": "Python 3 (ipykernel)",
   "language": "python",
   "name": "python3"
  },
  "language_info": {
   "codemirror_mode": {
    "name": "ipython",
    "version": 3
   },
   "file_extension": ".py",
   "mimetype": "text/x-python",
   "name": "python",
   "nbconvert_exporter": "python",
   "pygments_lexer": "ipython3",
   "version": "3.12.4"
  }
 },
 "nbformat": 4,
 "nbformat_minor": 5
}
