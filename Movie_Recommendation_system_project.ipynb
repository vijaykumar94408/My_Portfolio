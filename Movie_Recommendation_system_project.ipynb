{
 "cells": [
  {
   "cell_type": "markdown",
   "id": "0496da23-7f85-4eec-ad34-0c431a2a9fa3",
   "metadata": {},
   "source": [
    "# Week 3 Projects\n",
    "  \n",
    "### 5. **Movie Recommendation System (Final Project)**\n",
    "   - **Description**: Continue working on the movie recommendation system. Use lists and dictionaries to store user preferences, movie details, and recommendations.\n",
    "   - **Key Topics**:\n",
    "     - Use **lists** to store movie data.\n",
    "     - Use **dictionaries** to map users to their preferences (e.g., genres they like).\n",
    "     - Use **sets** to manage unique genres or movie recommendations.\n",
    "     - Practice **iteration** to loop through users and recommend movies based on their preferences.\n",
    " \n",
    "These projects align well with your data structures learning and can reinforce your understanding of the core topics while building practical, useful tools!\n",
    "\n"
   ]
  },
  {
   "cell_type": "code",
   "execution_count": 14,
   "id": "59b85d27-a23e-482d-9572-5eefa688a52a",
   "metadata": {},
   "outputs": [
    {
     "name": "stdin",
     "output_type": "stream",
     "text": [
      "Enter user Name:  vijay kumar\n"
     ]
    },
    {
     "name": "stdout",
     "output_type": "stream",
     "text": [
      "Vijay Kumar's recommended movies are: Super, devara, kgf, pushpha\n"
     ]
    },
    {
     "name": "stdin",
     "output_type": "stream",
     "text": [
      "To continue for movie recommendations, enter YES. To exit, enter NO:  no\n"
     ]
    }
   ],
   "source": [
    "# here i am creating a movies list with title and genre\n",
    "movies = [\n",
    "    {\"title\": \"pushpha\", \"genre\": \"Action\"},\n",
    "    {\"title\": \"kgf\", \"genre\": \"Action\"},\n",
    "    {\"title\": \"Ranghsthalam\", \"genre\": \"Drama\"},\n",
    "    {\"title\": \"Amma-bomma\", \"genre\": \"Horror\"},\n",
    "    {\"title\": \"devara\", \"genre\": \"Action\"},\n",
    "    {\"title\": \"Super\", \"genre\": \"Romance\"},\n",
    "    {\"title\": \"jathirathnalu\", \"genre\": \"Comedy\"},\n",
    "    {\"title\": \"Harrypotter\", \"genre\": \"Fantasy\"},\n",
    "    {\"title\": \"The Witcher\", \"genre\": \"Fantasy\"},\n",
    "    {\"title\": \"Dora\", \"genre\": \"Animation\"}\n",
    "]\n",
    "\n",
    "# here Dictionary mapping users to their preferred genres\n",
    "user_preference = {\n",
    "    \"Vijay Kumar\": {\"Action\", \"Romance\"},\n",
    "    \"Ramesh Kumar\": {\"Drama\", \"Horror\"},\n",
    "    \"Vijayalaxmi\": {\"Action\", \"Drama\"},\n",
    "    \"Durga\": {\"Drama\", \"Horror\"},\n",
    "    \"Ramukumar\": {\"Animation\", \"Comedy\"}\n",
    "}\n",
    "# defining a function with operations to be performed \n",
    "def Movie_recommend_project():\n",
    "    try:\n",
    "        #taking input form user for  name and changing it to title \n",
    "        user_input = input(\"Enter user Name: \").strip().title()\n",
    "\n",
    "        # Checking if the user exists in the preferences\n",
    "        if user_input not in user_preference:\n",
    "            print(f\"User {user_input} is not in the preference list\")\n",
    "            return\n",
    "        \n",
    "        # Getting  the user's preferred genres\n",
    "        preferred_genre = user_preference[user_input]\n",
    "\n",
    "        # here storing  unique movie recommendations\n",
    "        recommendations_movies = set()\n",
    "\n",
    "        # Iterating  through the movie list and recommend movies that match the user's preferred genres\n",
    "        for movie in movies:\n",
    "            if movie[\"genre\"] in preferred_genre:\n",
    "                recommendations_movies.add(movie[\"title\"])\n",
    "\n",
    "        # printing movie recommendations \n",
    "        if recommendations_movies:\n",
    "            print(f\"{user_input}'s recommended movies are: {', '.join(recommendations_movies)}\")\n",
    "        else:\n",
    "            print(f\"No preferred movies found for {user_input}\")\n",
    "    #else exception will be handled \n",
    "    except Exception as e:\n",
    "        print(f\"An error occurred: {e}\")\n",
    "\n",
    "# looping untill the user wants to exit \n",
    "while True:\n",
    "    Movie_recommend_project()\n",
    "    # if user want to exit this block will execute\n",
    "    continue_input = input(\"To continue for movie recommendations, enter YES. To exit, enter NO: \").strip().upper()\n",
    "    if continue_input != 'YES':\n",
    "        break\n"
   ]
  },
  {
   "cell_type": "code",
   "execution_count": null,
   "id": "245579f3-0275-41c0-a791-746946a4ee23",
   "metadata": {},
   "outputs": [],
   "source": []
  }
 ],
 "metadata": {
  "kernelspec": {
   "display_name": "Python 3 (ipykernel)",
   "language": "python",
   "name": "python3"
  },
  "language_info": {
   "codemirror_mode": {
    "name": "ipython",
    "version": 3
   },
   "file_extension": ".py",
   "mimetype": "text/x-python",
   "name": "python",
   "nbconvert_exporter": "python",
   "pygments_lexer": "ipython3",
   "version": "3.12.4"
  }
 },
 "nbformat": 4,
 "nbformat_minor": 5
}
