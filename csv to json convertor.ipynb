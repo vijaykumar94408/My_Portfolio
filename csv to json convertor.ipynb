{
 "cells": [
  {
   "cell_type": "markdown",
   "id": "8670f0c9-5a14-4540-88b6-602374e33237",
   "metadata": {},
   "source": [
    "# CSV to JSON Converter: A program that reads data from a CSV file (e.g., sales data) and converts it into JSON format for further processing"
   ]
  },
  {
   "cell_type": "code",
   "execution_count": 111,
   "id": "94d656e9-e1cc-4908-996f-7f09ac81d179",
   "metadata": {},
   "outputs": [],
   "source": [
    "# imported pandas and json and csv \n",
    "import csv \n",
    "import json\n",
    "import pandas as pd"
   ]
  },
  {
   "cell_type": "code",
   "execution_count": 113,
   "id": "e8dff881-5f9f-4e21-9295-89ce2c0feb3e",
   "metadata": {},
   "outputs": [
    {
     "name": "stdout",
     "output_type": "stream",
     "text": [
      "file created successfully\n"
     ]
    }
   ],
   "source": [
    "# opening file in read mode \n",
    "with open('sales_data.csv','r') as df:\n",
    "    reader=csv.DictReader(df)# dictreader method automatically reads the first row as header\n",
    "    rows=list(reader)# preparing list to store all row data \n",
    "    jsondata=json.dumps(rows, indent=4)\n",
    "\n",
    "with open('sales_data.json','w')as file:\n",
    "    json_readable_file=file.write(jsondata)\n",
    "    json_readable_file\n",
    "    print(\"file created successfully\")\n",
    "    \n",
    "\n",
    "    "
   ]
  },
  {
   "cell_type": "code",
   "execution_count": null,
   "id": "1d1dfad2-051f-4ac4-ac78-d5c1cfd50526",
   "metadata": {},
   "outputs": [],
   "source": []
  },
  {
   "cell_type": "code",
   "execution_count": null,
   "id": "31a35d3d-4678-4a3b-830a-90936c21729e",
   "metadata": {},
   "outputs": [],
   "source": []
  }
 ],
 "metadata": {
  "kernelspec": {
   "display_name": "Python 3 (ipykernel)",
   "language": "python",
   "name": "python3"
  },
  "language_info": {
   "codemirror_mode": {
    "name": "ipython",
    "version": 3
   },
   "file_extension": ".py",
   "mimetype": "text/x-python",
   "name": "python",
   "nbconvert_exporter": "python",
   "pygments_lexer": "ipython3",
   "version": "3.12.4"
  }
 },
 "nbformat": 4,
 "nbformat_minor": 5
}
