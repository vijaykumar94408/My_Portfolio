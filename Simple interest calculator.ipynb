{
 "cells": [
  {
   "cell_type": "markdown",
   "id": "e63b6d50-44dc-45ed-850d-d83ae14e1352",
   "metadata": {},
   "source": [
    "# Simple Interest Calculator"
   ]
  },
  {
   "cell_type": "code",
   "execution_count": 92,
   "id": "1595773b-e83d-4a97-9d63-7eb341455e90",
   "metadata": {},
   "outputs": [
    {
     "name": "stdin",
     "output_type": "stream",
     "text": [
      "Enter Principle amount in Rupees =  10000\n",
      "Enter interest rate =  -5\n",
      "Enter time period in months =  5\n"
     ]
    },
    {
     "name": "stdout",
     "output_type": "stream",
     "text": [
      "Please input only positive interger inputs values\n"
     ]
    }
   ],
   "source": [
    "# giving inputs value for principle amount, interest rate and time periods in months\n",
    "principle_amount=int(input(\"Enter Principle amount in Rupees = \"))\n",
    "\n",
    "rate_of_interest=int(input(\"Enter interest rate = \"))\n",
    "\n",
    "Time_period =int(input(\"Enter time period in months = \"))\n",
    "\n",
    "# if user inputs value is in negative or equals to zero , code will tell user to give positive interger or more than zero values\n",
    "\n",
    "if principle_amount<=0 or rate_of_interest<=0 or Time_period<=0 :\n",
    " print(\"Please input only positive interger inputs values\")\n",
    "\n",
    "else:\n",
    "# and this is the formula for calculating simple interest\n",
    " Simpe_Interest_amount=(principle_amount*rate_of_interest*Time_period)/100\n",
    "\n",
    "\n",
    "#Printing final result for interest rate and simple interset amount\n",
    " print(\"For interest rate = \",rate_of_interest)\n",
    " print(\"Total amount In Rupees = \",Simpe_Interest_amount+principle_amount)\n"
   ]
  },
  {
   "cell_type": "code",
   "execution_count": null,
   "id": "b1a97b78-2999-4a1d-aef8-ecba12ce4ed6",
   "metadata": {},
   "outputs": [],
   "source": []
  }
 ],
 "metadata": {
  "kernelspec": {
   "display_name": "Python 3 (ipykernel)",
   "language": "python",
   "name": "python3"
  },
  "language_info": {
   "codemirror_mode": {
    "name": "ipython",
    "version": 3
   },
   "file_extension": ".py",
   "mimetype": "text/x-python",
   "name": "python",
   "nbconvert_exporter": "python",
   "pygments_lexer": "ipython3",
   "version": "3.12.4"
  }
 },
 "nbformat": 4,
 "nbformat_minor": 5
}
