{
 "cells": [
  {
   "cell_type": "markdown",
   "id": "9486f0f3-00cb-4b32-b3d8-0852f8125288",
   "metadata": {},
   "source": [
    "# 1. **Contact Manager**\n",
    "   - **Description**: Create a program that allows users to store, search, and update contact details using a dictionary-based system.\n",
    "   - **Key Topics**:\n",
    "     - Use **dictionaries** to store contact names as keys and details (e.g., phone number, email) as values.\n",
    "     - Practice **dictionary comprehensions** to filter contacts by certain criteria (e.g., all contacts with a Gmail address).\n",
    "     - Practice **string manipulation** to format and display contact details.\n"
   ]
  },
  {
   "cell_type": "code",
   "execution_count": 21,
   "id": "b9120ce5-f874-4e20-8abe-ae1e1812c886",
   "metadata": {},
   "outputs": [
    {
     "name": "stdout",
     "output_type": "stream",
     "text": [
      "\n",
      "Enter 1 to store contact details\n",
      "Enter 2 to search a contact\n",
      "Enter 3 to update a contact\n",
      "Enter 4 to filter contacts by email domain\n",
      "Enter 5 to exit\n"
     ]
    },
    {
     "name": "stdin",
     "output_type": "stream",
     "text": [
      "Enter your choice:  exit\n"
     ]
    },
    {
     "name": "stdout",
     "output_type": "stream",
     "text": [
      "Invalid input! Please enter a number.\n"
     ]
    },
    {
     "name": "stdin",
     "output_type": "stream",
     "text": [
      "Press Enter to continue or 'exit' to quit:  exit\n"
     ]
    },
    {
     "name": "stdout",
     "output_type": "stream",
     "text": [
      "Exiting the program...\n"
     ]
    }
   ],
   "source": [
    "# creating a empty dictionary to store contact details \n",
    "contacts = {}\n",
    "\n",
    "#  defined function to store contact details (name, phone, email)\n",
    "def store_contact(name, phone_number, email):\n",
    "    contacts[name] = {'Phone': phone_number, 'Email': email}\n",
    "    print(f\"Stored {name}'s contact details: Phone: {phone_number}, Email: {email}\")\n",
    "\n",
    "#defined function to search for a contact by name\n",
    "def search_contact(name):\n",
    "    if name in contacts:\n",
    "        details = contacts[name]\n",
    "        print(f\"Contact details for {name} - Phone: {details['Phone']}, Email: {details['Email']}\")\n",
    "    else:\n",
    "        print(f\"{name} is not in the contact list.\")\n",
    "\n",
    "# defined a Function to update a contact's details\n",
    "def update_contact(name, phone_number=None, email=None):\n",
    "    if name in contacts:\n",
    "        if phone_number:\n",
    "            contacts[name]['Phone'] = phone_number\n",
    "        if email:\n",
    "            contacts[name]['Email'] = email\n",
    "        print(f\"{name}'s contact details have been updated to: {contacts[name]}\")\n",
    "    else:\n",
    "        print(f\"{name} is not in the contact list.\")\n",
    "\n",
    "# defined a Function to filter contacts by email domain (e.g., Gmail or phone number)\n",
    "def filter_contacts_by_email_domain(domain):\n",
    "    filtered_contacts = {name: details for name, details in contacts.items() if domain in details['Email']}\n",
    "    if filtered_contacts:\n",
    "        print(f\"Contacts with email domain '{domain}':\")\n",
    "        for name, details in filtered_contacts.items():\n",
    "            print(f\"Name: {name}, Phone: {details['Phone']}, Email: {details['Email']}\")\n",
    "    else:\n",
    "        print(f\"No contacts found with domain '{domain}'.\")\n",
    "\n",
    "# loop for choosing operation from user for below operations  \n",
    "\n",
    "while True:\n",
    "    print(\"\\nEnter 1 to store contact details\")\n",
    "    print(\"Enter 2 to search a contact\")\n",
    "    print(\"Enter 3 to update a contact\")\n",
    "    print(\"Enter 4 to filter contacts by email domain\")\n",
    "    print(\"Enter 5 to exit\")\n",
    "    \n",
    "# using try and except method for handling run time error \n",
    "    try:\n",
    "        res = int(input(\"Enter your choice: \"))\n",
    "        # taken input from user \n",
    "\n",
    "        # for updating contact details \n",
    "        if res == 1:\n",
    "            name = input(\"Enter name: \")\n",
    "            phone_number = input(\"Enter phone number: \")\n",
    "            email = input(\"Enter email: \")\n",
    "            store_contact(name, phone_number, email)\n",
    "        # for searching  contact details \n",
    "        elif res == 2:\n",
    "            name = input(\"Enter name to search: \")\n",
    "            search_contact(name)\n",
    "        # for updating existing contact details \n",
    "        elif res == 3:\n",
    "            name = input(\"Enter the name whose details you want to update: \")\n",
    "            phone_number = input(\"Enter new phone number (or press Enter to skip): \") or None\n",
    "            email = input(\"Enter new email (or press Enter to skip): \") or None\n",
    "            update_contact(name, phone_number, email)\n",
    "        # for filtering contacts by email id \n",
    "        elif res == 4:\n",
    "            domain = input(\"Enter email domain to filter (e.g., gmail.com): \")\n",
    "            filter_contacts_by_email_domain(domain)\n",
    "        # for exiting program \n",
    "        elif res == 5:\n",
    "            print(\"Exiting the program...\")\n",
    "            break\n",
    "        \n",
    "        else:\n",
    "            print(\"Invalid input! Please enter a valid number.\")\n",
    "    \n",
    "    except ValueError:\n",
    "        print(\"Invalid input! Please enter a number.\")\n",
    "# this block used to exit program \n",
    "    continue_choice = input(\"Press Enter to continue or 'exit' to quit: \")\n",
    "    if continue_choice.lower() == 'exit':\n",
    "        print(\"Exiting the program...\")\n",
    "        break\n"
   ]
  },
  {
   "cell_type": "code",
   "execution_count": null,
   "id": "b67336a0-5fc8-436b-b263-8ebcbb91c443",
   "metadata": {},
   "outputs": [],
   "source": []
  }
 ],
 "metadata": {
  "kernelspec": {
   "display_name": "Python 3 (ipykernel)",
   "language": "python",
   "name": "python3"
  },
  "language_info": {
   "codemirror_mode": {
    "name": "ipython",
    "version": 3
   },
   "file_extension": ".py",
   "mimetype": "text/x-python",
   "name": "python",
   "nbconvert_exporter": "python",
   "pygments_lexer": "ipython3",
   "version": "3.12.4"
  }
 },
 "nbformat": 4,
 "nbformat_minor": 5
}
