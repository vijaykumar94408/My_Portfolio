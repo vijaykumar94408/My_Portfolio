{
 "cells": [
  {
   "cell_type": "code",
   "execution_count": 7,
   "id": "1bb07ca7-98e5-43eb-a346-15ceb6df30be",
   "metadata": {},
   "outputs": [
    {
     "name": "stdout",
     "output_type": "stream",
     "text": [
      "Welcome to the Guess Number Game!\n",
      "Guess a number from 1 to 100 and win the game.\n"
     ]
    },
    {
     "name": "stdin",
     "output_type": "stream",
     "text": [
      "Enter your guess:  32\n"
     ]
    },
    {
     "name": "stdout",
     "output_type": "stream",
     "text": [
      "Higher! Try again.\n",
      "You have attempts left: 4\n"
     ]
    },
    {
     "name": "stdin",
     "output_type": "stream",
     "text": [
      "Enter your guess:  34\n"
     ]
    },
    {
     "name": "stdout",
     "output_type": "stream",
     "text": [
      "Higher! Try again.\n",
      "You have attempts left: 3\n"
     ]
    },
    {
     "name": "stdin",
     "output_type": "stream",
     "text": [
      "Enter your guess:  56\n"
     ]
    },
    {
     "name": "stdout",
     "output_type": "stream",
     "text": [
      "Higher! Try again.\n",
      "You have attempts left: 2\n"
     ]
    },
    {
     "name": "stdin",
     "output_type": "stream",
     "text": [
      "Enter your guess:  78\n"
     ]
    },
    {
     "name": "stdout",
     "output_type": "stream",
     "text": [
      "Lower! Try again.\n",
      "You have attempts left: 1\n"
     ]
    },
    {
     "name": "stdin",
     "output_type": "stream",
     "text": [
      "Enter your guess:  34\n"
     ]
    },
    {
     "name": "stdout",
     "output_type": "stream",
     "text": [
      "Higher! Try again.\n",
      "Sorry, you're out of attempts! The number was 58 Attempts used: 5\n"
     ]
    }
   ],
   "source": [
    "import random\n",
    "\n",
    "class InvalidNumberException(Exception):\n",
    "    pass\n",
    "\n",
    "random_number = random.randint(1, 100)\n",
    "attempts = 5\n",
    "attempts_used = 0\n",
    "\n",
    "print(\"Welcome to the Guess Number Game!\")\n",
    "print(\"Guess a number from 1 to 100 and win the game.\")\n",
    "\n",
    "while attempts > 0:\n",
    "    try:\n",
    "        user_guessed_number = int(input(\"Enter your guess: \"))\n",
    "        \n",
    "        if user_guessed_number < 1 or user_guessed_number > 100:\n",
    "            raise InvalidNumberException(\"Please enter a number between 1 and 100.\")\n",
    "        \n",
    "        attempts_used += 1\n",
    "        \n",
    "        if user_guessed_number < random_number:\n",
    "            print(\"Higher! Try again.\")\n",
    "        elif user_guessed_number > random_number:\n",
    "            print(\"Lower! Try again.\")\n",
    "        else:\n",
    "            print(\"Congratulations! Your guess is correct. Attempts used:\",attempts_used)\n",
    "            break\n",
    "        \n",
    "        attempts -= 1\n",
    "        \n",
    "        if attempts == 0:\n",
    "            print(\"Sorry, you're out of attempts! The number was\",random_number,\"Attempts used:\",attempts_used)\n",
    "        else:\n",
    "            print(\"You have attempts left:\",attempts)\n",
    "    \n",
    "    except InvalidNumberException as e:\n",
    "        print(e)\n",
    "    except ValueError:\n",
    "        print(\"Invalid input. Please enter a numeric value.\")\n"
   ]
  },
  {
   "cell_type": "markdown",
   "id": "a5e9c165-de28-48ab-bd06-2561cec5f2ba",
   "metadata": {},
   "source": [
    "#### "
   ]
  }
 ],
 "metadata": {
  "kernelspec": {
   "display_name": "Python 3 (ipykernel)",
   "language": "python",
   "name": "python3"
  },
  "language_info": {
   "codemirror_mode": {
    "name": "ipython",
    "version": 3
   },
   "file_extension": ".py",
   "mimetype": "text/x-python",
   "name": "python",
   "nbconvert_exporter": "python",
   "pygments_lexer": "ipython3",
   "version": "3.12.4"
  }
 },
 "nbformat": 4,
 "nbformat_minor": 5
}
