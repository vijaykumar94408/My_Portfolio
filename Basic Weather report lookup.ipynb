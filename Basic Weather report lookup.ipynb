{
 "cells": [
  {
   "cell_type": "markdown",
   "id": "aad0f813-40a4-4da3-8a7a-8c961cc64141",
   "metadata": {},
   "source": [
    "# Basic weather data lookup"
   ]
  },
  {
   "cell_type": "code",
   "execution_count": null,
   "id": "775273d3-bccb-4897-a29b-4723c1819444",
   "metadata": {},
   "outputs": [],
   "source": [
    "# here i am declaring dictionary value \n",
    "weather_data={'kodimial':{'temperature':23, 'humidity':50,'condition':'sunny'},'wanparthy':{'temperature':34, 'humidity':45,'condition':'cloudy'},'mahaboobnagar':{'temperature':23, 'humidity':34,'condition':'rainy'}}\n",
    "def basic_weather_lookup():# defining function\n",
    "    while True:#i am trying to repeat again until user want to break the loop \n",
    "        input_city_name=input(\"enter city name\")#entering input here\n",
    "        if input_city_name in weather_data: #using conditional statement i am comparing input to dictionary\n",
    "            weather_format=lambda data:f\"Temperature:{data['temperature']}ºC,humidity:{data['humidity']}%,condition:{data['condition']}\"\n",
    "            weather_result=weather_data[input_city_name]\n",
    "            print(weather_format(weather_result))\n",
    "        else:#else this error should be executed\n",
    "            print(\"city is not found!, please enter valid city name\")\n",
    "        try_again=input(\"enter 'RAV' to exit / enter 'VIJ' to try again\").strip().upper()#here if user want to break or repeat the loop \n",
    "        if try_again!='VIJ':\n",
    "            break\n",
    "basic_weather_lookup()#i am calling the function from here\n"
   ]
  },
  {
   "cell_type": "code",
   "execution_count": null,
   "id": "c3f3303e-4417-4581-9ac1-103debbee0a4",
   "metadata": {},
   "outputs": [],
   "source": []
  }
 ],
 "metadata": {
  "kernelspec": {
   "display_name": "Python 3 (ipykernel)",
   "language": "python",
   "name": "python3"
  },
  "language_info": {
   "codemirror_mode": {
    "name": "ipython",
    "version": 3
   },
   "file_extension": ".py",
   "mimetype": "text/x-python",
   "name": "python",
   "nbconvert_exporter": "python",
   "pygments_lexer": "ipython3",
   "version": "3.12.4"
  }
 },
 "nbformat": 4,
 "nbformat_minor": 5
}
